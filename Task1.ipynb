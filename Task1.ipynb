{
  "nbformat": 4,
  "nbformat_minor": 0,
  "metadata": {
    "colab": {
      "provenance": [],
      "authorship_tag": "ABX9TyPfILgsFd0r0f3TWs/AW0IZ",
      "include_colab_link": true
    },
    "kernelspec": {
      "name": "python3",
      "display_name": "Python 3"
    },
    "language_info": {
      "name": "python"
    }
  },
  "cells": [
    {
      "cell_type": "markdown",
      "metadata": {
        "id": "view-in-github",
        "colab_type": "text"
      },
      "source": [
        "<a href=\"https://colab.research.google.com/github/MAlexAT/goit-algo-hw-02/blob/main/Task1.ipynb\" target=\"_parent\"><img src=\"https://colab.research.google.com/assets/colab-badge.svg\" alt=\"Open In Colab\"/></a>"
      ]
    },
    {
      "cell_type": "code",
      "execution_count": 2,
      "metadata": {
        "colab": {
          "base_uri": "https://localhost:8080/"
        },
        "id": "NiTdOeAGIpFE",
        "outputId": "4c44335a-a2a2-4d4e-a395-a8543be8d4dc"
      },
      "outputs": [
        {
          "output_type": "stream",
          "name": "stdout",
          "text": [
            "Натисніть 'g' для генерації заявки, 'p' для обробки або 'q' для виходу: p\n",
            "Черга пуста, немає заявок для обробки\n",
            "Натисніть 'g' для генерації заявки, 'p' для обробки або 'q' для виходу: g\n",
            "Нова заявка 1 додана до черги\n",
            "Натисніть 'g' для генерації заявки, 'p' для обробки або 'q' для виходу: p\n",
            "Обробляємо Заявка 1\n",
            "Натисніть 'g' для генерації заявки, 'p' для обробки або 'q' для виходу: q\n",
            "Вихід із програми\n"
          ]
        }
      ],
      "source": [
        "import queue\n",
        "import time\n",
        "import random\n",
        "\n",
        "# Створюємо чергу заявок\n",
        "request_queue = queue.Queue()\n",
        "\n",
        "# Функція для генерації нових заявок\n",
        "def generate_request(request_number):\n",
        "    print(f\"Нова заявка {request_number} додана до черги\")\n",
        "    request_queue.put(f\"Заявка {request_number}\")\n",
        "\n",
        "# Функція для обробки заявок\n",
        "def process_request():\n",
        "    if not request_queue.empty():\n",
        "        request = request_queue.get()\n",
        "        print(f\"Обробляємо {request}\")\n",
        "    else:\n",
        "        print(\"Черга пуста, немає заявок для обробки\")\n",
        "\n",
        "# Головний цикл програми\n",
        "request_number = 1\n",
        "while True:\n",
        "    action = input(\"Натисніть 'g' для генерації заявки, 'p' для обробки або 'q' для виходу: \")\n",
        "\n",
        "    if action == 'g':\n",
        "        generate_request(request_number)\n",
        "        request_number += 1\n",
        "    elif action == 'p':\n",
        "        process_request()\n",
        "    elif action == 'q':\n",
        "        print(\"Вихід із програми\")\n",
        "        break\n",
        "    else:\n",
        "        print(\"Невірна команда, спробуйте ще раз.\")\n",
        "\n",
        "    time.sleep(1)\n"
      ]
    }
  ]
}