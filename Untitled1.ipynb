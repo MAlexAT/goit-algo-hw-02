{
  "nbformat": 4,
  "nbformat_minor": 0,
  "metadata": {
    "colab": {
      "provenance": [],
      "authorship_tag": "ABX9TyPfILgsFd0r0f3TWs/AW0IZ"
    },
    "kernelspec": {
      "name": "python3",
      "display_name": "Python 3"
    },
    "language_info": {
      "name": "python"
    }
  },
  "cells": [
    {
      "cell_type": "code",
      "execution_count": 1,
      "metadata": {
        "colab": {
          "base_uri": "https://localhost:8080/"
        },
        "id": "NiTdOeAGIpFE",
        "outputId": "ca6d8408-6fc5-4796-8ee4-da42e8ac8f0a"
      },
      "outputs": [
        {
          "output_type": "stream",
          "name": "stdout",
          "text": [
            "Натисніть 'g' для генерації заявки, 'p' для обробки або 'q' для виходу: g\n",
            "Нова заявка 1 додана до черги\n",
            "Натисніть 'g' для генерації заявки, 'p' для обробки або 'q' для виходу: q\n",
            "Вихід із програми\n"
          ]
        }
      ],
      "source": [
        "import queue\n",
        "import time\n",
        "import random\n",
        "\n",
        "# Створюємо чергу заявок\n",
        "request_queue = queue.Queue()\n",
        "\n",
        "# Функція для генерації нових заявок\n",
        "def generate_request(request_number):\n",
        "    print(f\"Нова заявка {request_number} додана до черги\")\n",
        "    request_queue.put(f\"Заявка {request_number}\")\n",
        "\n",
        "# Функція для обробки заявок\n",
        "def process_request():\n",
        "    if not request_queue.empty():\n",
        "        request = request_queue.get()\n",
        "        print(f\"Обробляємо {request}\")\n",
        "    else:\n",
        "        print(\"Черга пуста, немає заявок для обробки\")\n",
        "\n",
        "# Головний цикл програми\n",
        "request_number = 1\n",
        "while True:\n",
        "    action = input(\"Натисніть 'g' для генерації заявки, 'p' для обробки або 'q' для виходу: \")\n",
        "\n",
        "    if action == 'g':\n",
        "        generate_request(request_number)\n",
        "        request_number += 1\n",
        "    elif action == 'p':\n",
        "        process_request()\n",
        "    elif action == 'q':\n",
        "        print(\"Вихід із програми\")\n",
        "        break\n",
        "    else:\n",
        "        print(\"Невірна команда, спробуйте ще раз.\")\n",
        "\n",
        "    time.sleep(1)\n"
      ]
    }
  ]
}