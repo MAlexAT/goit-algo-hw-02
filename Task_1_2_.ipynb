{
  "nbformat": 4,
  "nbformat_minor": 0,
  "metadata": {
    "colab": {
      "provenance": [],
      "authorship_tag": "ABX9TyNotRWDcVvI0xQr+n8BwL0b",
      "include_colab_link": true
    },
    "kernelspec": {
      "name": "python3",
      "display_name": "Python 3"
    },
    "language_info": {
      "name": "python"
    }
  },
  "cells": [
    {
      "cell_type": "markdown",
      "metadata": {
        "id": "view-in-github",
        "colab_type": "text"
      },
      "source": [
        "<a href=\"https://colab.research.google.com/github/MAlexAT/goit-algo-hw-02/blob/main/Task_1_2_.ipynb\" target=\"_parent\"><img src=\"https://colab.research.google.com/assets/colab-badge.svg\" alt=\"Open In Colab\"/></a>"
      ]
    },
    {
      "cell_type": "markdown",
      "source": [
        "#Завдання 1\n",
        "\n",
        "Потрібно розробити програму, яка імітує приймання й обробку заявок: програма має автоматично генерувати нові заявки (ідентифіковані унікальним номером або іншими даними), додавати їх до черги, а потім послідовно видаляти з черги для \"обробки\", імітуючи таким чином роботу сервісного центру."
      ],
      "metadata": {
        "id": "UXM3ajvLOoHV"
      }
    },
    {
      "cell_type": "code",
      "execution_count": 2,
      "metadata": {
        "colab": {
          "base_uri": "https://localhost:8080/"
        },
        "id": "NiTdOeAGIpFE",
        "outputId": "4c44335a-a2a2-4d4e-a395-a8543be8d4dc"
      },
      "outputs": [
        {
          "output_type": "stream",
          "name": "stdout",
          "text": [
            "Натисніть 'g' для генерації заявки, 'p' для обробки або 'q' для виходу: p\n",
            "Черга пуста, немає заявок для обробки\n",
            "Натисніть 'g' для генерації заявки, 'p' для обробки або 'q' для виходу: g\n",
            "Нова заявка 1 додана до черги\n",
            "Натисніть 'g' для генерації заявки, 'p' для обробки або 'q' для виходу: p\n",
            "Обробляємо Заявка 1\n",
            "Натисніть 'g' для генерації заявки, 'p' для обробки або 'q' для виходу: q\n",
            "Вихід із програми\n"
          ]
        }
      ],
      "source": [
        "import queue\n",
        "import time\n",
        "import random\n",
        "\n",
        "# Створюємо чергу заявок\n",
        "request_queue = queue.Queue()\n",
        "\n",
        "# Функція для генерації нових заявок\n",
        "def generate_request(request_number):\n",
        "    print(f\"Нова заявка {request_number} додана до черги\")\n",
        "    request_queue.put(f\"Заявка {request_number}\")\n",
        "\n",
        "# Функція для обробки заявок\n",
        "def process_request():\n",
        "    if not request_queue.empty():\n",
        "        request = request_queue.get()\n",
        "        print(f\"Обробляємо {request}\")\n",
        "    else:\n",
        "        print(\"Черга пуста, немає заявок для обробки\")\n",
        "\n",
        "# Головний цикл програми\n",
        "request_number = 1\n",
        "while True:\n",
        "    action = input(\"Натисніть 'g' для генерації заявки, 'p' для обробки або 'q' для виходу: \")\n",
        "\n",
        "    if action == 'g':\n",
        "        generate_request(request_number)\n",
        "        request_number += 1\n",
        "    elif action == 'p':\n",
        "        process_request()\n",
        "    elif action == 'q':\n",
        "        print(\"Вихід із програми\")\n",
        "        break\n",
        "    else:\n",
        "        print(\"Невірна команда, спробуйте ще раз.\")\n",
        "\n",
        "    time.sleep(1)\n"
      ]
    },
    {
      "cell_type": "markdown",
      "source": [
        "#Завдання 2\n",
        "\n",
        "Необхідно розробити функцію, яка приймає рядок як вхідний параметр, додає всі його символи до двосторонньої черги (deque з модуля collections в Python), а потім порівнює символи з обох кінців черги, щоб визначити, чи є рядок паліндромом. Програма повинна правильно враховувати як рядки з парною, так і з непарною кількістю символів, а також бути нечутливою до регістру та пробілів."
      ],
      "metadata": {
        "id": "gdKeKzasO0WV"
      }
    },
    {
      "cell_type": "code",
      "source": [
        "from collections import deque\n",
        "\n",
        "def is_palindrome(s):\n",
        "    # Приведення рядка до нижнього регістру та видалення пробілів\n",
        "    s = ''.join(c.lower() for c in s if c.isalnum())\n",
        "\n",
        "    # Створення двосторонньої черги\n",
        "    d = deque(s)\n",
        "\n",
        "    # Порівняння символів з обох кінців черги\n",
        "    while len(d) > 1:\n",
        "        if d.popleft() != d.pop():\n",
        "            return False\n",
        "    return True\n",
        "\n",
        "# Приклад використання\n",
        "input_string = \"A man a plan a canal Panama\"\n",
        "print(f\"'{input_string}' паліндром? {is_palindrome(input_string)}\")\n"
      ],
      "metadata": {
        "colab": {
          "base_uri": "https://localhost:8080/"
        },
        "id": "18qoMHiJO6Yp",
        "outputId": "5f1a7943-6b1f-47dc-d82d-311beec84d49"
      },
      "execution_count": 9,
      "outputs": [
        {
          "output_type": "stream",
          "name": "stdout",
          "text": [
            "'A man a plan a canal Panama' паліндром? True\n"
          ]
        }
      ]
    },
    {
      "cell_type": "markdown",
      "source": [],
      "metadata": {
        "id": "OT7KsmaZQoHw"
      }
    }
  ]
}